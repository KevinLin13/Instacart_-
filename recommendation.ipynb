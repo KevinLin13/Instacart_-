{
 "cells": [
  {
   "cell_type": "markdown",
   "metadata": {},
   "source": [
    "# 六、推薦系統\n",
    "<hr style=\"border:2px solid gray\">"
   ]
  },
  {
   "cell_type": "code",
   "execution_count": 1,
   "metadata": {},
   "outputs": [],
   "source": [
    "# 載入所需套件\n",
    "import pandas as pd\n",
    "import pickle\n",
    "from datetime import datetime\n",
    "from f1optimization_faron import get_best_prediction\n",
    "import xgboost as xgb"
   ]
  },
  {
   "cell_type": "markdown",
   "metadata": {},
   "source": [
    "# 6-1. 獲取目前時間\n",
    "<hr style=\"border:2px solid gray\">\n",
    "\n",
    "需要獲取當前的時間和日期，這樣我們可以計算 order_hour_of_day 和 order_dow。"
   ]
  },
  {
   "cell_type": "code",
   "execution_count": 2,
   "metadata": {},
   "outputs": [
    {
     "name": "stdout",
     "output_type": "stream",
     "text": [
      "當前日期和時間: 26/06/2024 18:47:47\n",
      "日期: 26\n"
     ]
    }
   ],
   "source": [
    "# 獲取當前時間\n",
    "start_time = datetime.now()\n",
    "\n",
    "# 獲取包含當前日期和時間的 datetime\n",
    "now = datetime.now()\n",
    "\n",
    "# 格式化日期和時間\n",
    "dt_string = now.strftime(\"%d/%m/%Y %H:%M:%S\")\n",
    "today = int(dt_string.split(\"/\")[0])\n",
    "\n",
    "print(\"當前日期和時間:\", dt_string)\n",
    "print(\"日期:\", today)"
   ]
  },
  {
   "cell_type": "markdown",
   "metadata": {},
   "source": [
    "# 6-2. 從用戶端獲取 user_id\n",
    "<hr style=\"border:2px solid gray\">\n",
    "\n",
    "我們需要從輸入數據中提取 user_id，並計算 order_hour_of_day 和 order_dow。"
   ]
  },
  {
   "cell_type": "code",
   "execution_count": 3,
   "metadata": {},
   "outputs": [
    {
     "name": "stdout",
     "output_type": "stream",
     "text": [
      "User ID: 2000000\n",
      "訂單時間: 18\n",
      "訂單時間星期: 2\n"
     ]
    }
   ],
   "source": [
    "# 假設有一個輸入字典 user_id_data\n",
    "user_id_data = {'user_id': 2000000}\n",
    "\n",
    "# 從用戶端獲取數據\n",
    "user_id = int(user_id_data['user_id'])  # 用戶ID\n",
    "order_hour_of_day = int(dt_string.split(\" \")[1].split(\":\")[0])  # 當前小時\n",
    "order_dow = datetime.today().weekday()  # 當前星期幾，注意是從 0 開始是禮拜一\n",
    "\n",
    "# 打印用戶ID和時間信息\n",
    "print(\"User ID:\", user_id)\n",
    "print(\"訂單時間:\", order_hour_of_day)\n",
    "print(\"訂單時間星期:\", order_dow)"
   ]
  },
  {
   "cell_type": "markdown",
   "metadata": {},
   "source": [
    "# 6-3. 檢查用戶是否為新用戶\n",
    "<hr style=\"border:2px solid gray\">\n",
    "\n",
    "檢查用戶是否為新用戶，如果是新用戶，我們會依照間隔天數、禮拜和該時間點最常購買的前十產品。"
   ]
  },
  {
   "cell_type": "code",
   "execution_count": 4,
   "metadata": {},
   "outputs": [
    {
     "name": "stdout",
     "output_type": "stream",
     "text": [
      "推薦給新用戶: {'top': {0: 'Banana', 1: 'Bag of Organic Bananas', 2: 'Organic Strawberries', 3: 'Organic Baby Spinach', 4: 'Organic Hass Avocado', 5: 'Organic Avocado', 6: 'Large Lemon', 7: 'Strawberries', 8: 'Organic Raspberries', 9: 'Limes'}}\n"
     ]
    }
   ],
   "source": [
    "# 讀取用戶假定最後訂單日期(部屬時間)\n",
    "ulp = pd.read_pickle(\"./datasets/user_last_purchase.pkl\")\n",
    "\n",
    "# 檢查用戶是否為新用戶\n",
    "if user_id not in ulp['user_id'].values:\n",
    "    # 獲取基於小時和星期幾的前10個產品\n",
    "    top = pd.read_pickle('./datasets/top10_products.pkl')\n",
    "    top_products = top[(top['order_dow'] == order_dow) & (top['order_hour_of_day'] == order_hour_of_day)]['product_name'].values.tolist()\n",
    "    top_products = {i: value for i, value in enumerate(top_products)}\n",
    "    predictions = {'top': top_products}\n",
    "\n",
    "    print(\"推薦給新用戶:\", predictions)\n",
    "else:\n",
    "    print(\"此用戶為現有用戶\")\n"
   ]
  },
  {
   "cell_type": "markdown",
   "metadata": {},
   "source": [
    "# 6-4. 現有用戶\n",
    "<hr style=\"border:2px solid gray\">\n",
    "\n",
    "如果用戶是現有用戶，我們需要計算 days_since_prior_order，並讀取相關的特徵數據，最後再利用訓練好的模型，進行預測。"
   ]
  },
  {
   "cell_type": "code",
   "execution_count": 10,
   "metadata": {},
   "outputs": [
    {
     "name": "stdout",
     "output_type": "stream",
     "text": [
      "用戶最後訂單日期: 2024-06-14\n",
      "距離上次購買間隔天數: 12\n",
      "{'recommend': {0: 'Mango Sparkling Water', 1: 'Flip Peanut Butter Dream Greek Yogurt', 2: 'Milk Organic Fat Free', 3: 'Flip LowFat Almond Coco Loco Lowfat Greek Yogurt'}}\n"
     ]
    }
   ],
   "source": [
    "user_id_data = {'user_id': 2000}\n",
    "user_id = int(user_id_data['user_id'])  # 用戶ID\n",
    "data_path = './datasets/'\n",
    "if user_id in ulp['user_id'].values:\n",
    "\n",
    "    user_last_order_date = ulp[ulp['user_id'] == user_id]['date'].values.tolist()[0] # 獲取預設最後訂單日期\n",
    "    days_since_prior_order = today - int(user_last_order_date.split('-')[-1]) # 計算距離上次購買過了幾天\n",
    "    # 用戶最後訂單日期和計算的天數\n",
    "    print(\"用戶最後訂單日期:\", user_last_order_date)\n",
    "    print(\"距離上次購買間隔天數:\", days_since_prior_order)\n",
    "\n",
    "\n",
    "    # 依據以上資訊創建特徵\n",
    "    misc_hour_order_rate = pd.read_pickle(data_path + \"hour_order_rate.pkl\") # 每小時的訂購率\n",
    "    misc_day_order_rate = pd.read_pickle(data_path + \"day_order_rate.pkl\") # 每星期幾的訂購率\n",
    "    misc_product_days_since_prior_order_order_rate = pd.read_pickle(data_path + \"product_days_since_prior_order_order_rate.pkl\") # 各個產品不同間隔天數的訂購率\n",
    "    misc_user_days_since_prior_order_order_rate = pd.read_pickle(data_path + \"user_days_since_prior_order_order_rate.pkl\") # 各個用戶不同間隔天數的訂購率\n",
    "    misc_uxp_days_since_prior_order_order_rate = pd.read_pickle(data_path + \"uxp_days_since_prior_order_order_rate.pkl\") # 各個用戶對於各個產品不同間隔天數的訂購率\n",
    "\n",
    "\n",
    "    # 其餘特徵已經在特徵工程中完成，因此其他特徵直接讀取 data.h5 即可\n",
    "    path = data_path + \"train_test_data.h5\"\n",
    "    train_data = pd.read_hdf(path, key='train')\n",
    "    test_data = pd.read_hdf(path, key='test')\n",
    "    # 刪除 要根據當下情況判斷的特徵 以及 模型不需要的特徵\n",
    "    train_data.drop(columns=['order_id', 'order_dow', 'order_hour_of_day', 'days_since_prior_order',\n",
    "                            'misc_hour_order_rate', 'misc_day_order_rate',\n",
    "                            'misc_product_days_since_prior_order_order_rate',\n",
    "                            'misc_user_days_since_prior_order_order_rate',\n",
    "                            'misc_uxp_days_since_prior_order_order_rate', 'reordered'], inplace=True)\n",
    "\n",
    "    test_data.drop(columns=['order_id', 'order_dow', 'order_hour_of_day', 'days_since_prior_order',\n",
    "                            'misc_hour_order_rate', 'misc_day_order_rate',\n",
    "                            'misc_product_days_since_prior_order_order_rate',\n",
    "                            'misc_user_days_since_prior_order_order_rate',\n",
    "                            'misc_uxp_days_since_prior_order_order_rate'], inplace=True)\n",
    "    # 合併成一個完整原用戶的數據特徵集\n",
    "    all_user_data = pd.concat([train_data, test_data], axis=0)\n",
    "    # 抓取該用戶的特徵數據\n",
    "    featurized_data = all_user_data[all_user_data['user_id'] == user_id]\n",
    "    # 新增間隔時間的特徵\n",
    "    featurized_data = featurized_data.copy()\n",
    "    featurized_data['days_since_prior_order'] = days_since_prior_order\n",
    "\n",
    "\n",
    "    # 根據用戶ID、時間和星期收集特徵\n",
    "    hour_rate = misc_hour_order_rate[misc_hour_order_rate['order_hour_of_day'] == order_hour_of_day]\n",
    "    day_rate = misc_day_order_rate[misc_day_order_rate['order_dow'] == order_dow]\n",
    "    p_days_rate = misc_product_days_since_prior_order_order_rate[misc_product_days_since_prior_order_order_rate['days_since_prior_order'] == days_since_prior_order]\n",
    "    u_days_rate = misc_user_days_since_prior_order_order_rate[(misc_user_days_since_prior_order_order_rate['user_id'] == user_id) & (misc_user_days_since_prior_order_order_rate['days_since_prior_order'] == days_since_prior_order)]\n",
    "    uxp_days_rate = misc_uxp_days_since_prior_order_order_rate[(misc_uxp_days_since_prior_order_order_rate['user_id'] == user_id) & (misc_uxp_days_since_prior_order_order_rate['days_since_prior_order'] == days_since_prior_order)]\n",
    "    # 注意：並不是每個用戶和產品都會有所有時間、間隔天數的數據，因此我們需要給定預設值\n",
    "    # 處理空的特徵數據\n",
    "    if p_days_rate.empty:\n",
    "        p_days_rate = pd.DataFrame(columns=p_days_rate.columns)\n",
    "        products_x = pd.read_pickle(data_path + 'products_id_name.pkl')\n",
    "        p_days_rate['product_id'] = p_days_rate['product_id']\n",
    "        p_days_rate['days_since_prior_order'] = float(days_since_prior_order)\n",
    "        p_days_rate['misc_product_days_since_prior_order_order_rate'] = float(0)\n",
    "        del products_x\n",
    "    if u_days_rate.empty:\n",
    "        u_days_rate = pd.DataFrame(columns=u_days_rate.columns)\n",
    "        df2 = {'user_id': user_id, 'days_since_prior_order': float(days_since_prior_order), 'misc_user_days_since_prior_order_order_rate': float(0)}\n",
    "        u_days_rate = pd.concat([u_days_rate, pd.DataFrame([df2])], ignore_index=True)\n",
    "        del df2\n",
    "    if uxp_days_rate.empty:\n",
    "        uxp_days_rate = pd.DataFrame(columns=misc_uxp_days_since_prior_order_order_rate.columns)\n",
    "        products_x = pd.read_pickle(data_path + 'products_id_name.pkl')\n",
    "        uxp_days_rate['product_id'] = products_x['product_id']\n",
    "        uxp_days_rate['user_id'] = user_id\n",
    "        uxp_days_rate['days_since_prior_order'] = float(days_since_prior_order)\n",
    "        uxp_days_rate['misc_uxp_days_since_prior_order_order_rate'] = float(0)\n",
    "        del products_x\n",
    "\n",
    "    # 合併特徵數據\n",
    "    featurized_data = pd.merge(featurized_data, hour_rate, on='product_id')\n",
    "    featurized_data = pd.merge(featurized_data, day_rate, on='product_id')\n",
    "    featurized_data = pd.merge(featurized_data, p_days_rate, on=['product_id', 'days_since_prior_order'])\n",
    "    featurized_data = pd.merge(featurized_data, u_days_rate, on=['user_id', 'days_since_prior_order'])\n",
    "    featurized_data = pd.merge(featurized_data, uxp_days_rate, on=['user_id', 'product_id', 'days_since_prior_order'])\n",
    "\n",
    "    # 將時間轉換為類別變數\n",
    "    def hour_to_categorical(time):\n",
    "        if 6 <= time < 12:  # 6 AM 到 11 AM\n",
    "            return 0\n",
    "        elif 12 <= time < 17:  # 12 PM 到 4 PM\n",
    "            return 1\n",
    "        elif 17 <= time < 21:  # 5 PM 到 8 PM\n",
    "            return 2\n",
    "        else:  # 9 PM 到 5 AM\n",
    "                return 3\n",
    "    featurized_data['order_hour_of_day'] = featurized_data['order_hour_of_day'].apply(hour_to_categorical)\n",
    "\n",
    "    # 預測的特徵要與模型的特徵順序一致\n",
    "    expected_features = ['uxp_order_rate', 'uxp_order_reorder_ratio', 'uxp_avg_position', 'uxp_orders_since_last',\n",
    "                        'uxp_max_streak', 'user_reorder_rate', 'user_unique_products', 'user_total_products',\n",
    "                        'user_avg_cart_size', 'user_avg_days_between_orders', 'user_reordered_products_ratio',\n",
    "                        'product_reorder_ratio', 'product_avg_pos_incart', 'product_reduced_feat_1',\n",
    "                        'product_reduced_feat_2', 'product_reduced_feat_3', 'product_aisle_reorder_rate',\n",
    "                        'product_department_reorder_rate', 'uxp_product_unique_customers', 'uxp_product_one_shot_ratio',\n",
    "                        'order_dow', 'order_hour_of_day', 'days_since_prior_order', 'misc_hour_order_rate',\n",
    "                        'misc_day_order_rate', 'misc_product_days_since_prior_order_order_rate',\n",
    "                        'misc_user_days_since_prior_order_order_rate', 'misc_uxp_days_since_prior_order_order_rate']\n",
    "    data = featurized_data[expected_features]\n",
    "\n",
    "    # 加載模型並進行預測\n",
    "    with open(data_path + \"xgb_v1.pkl\", \"rb\") as f:\n",
    "        model = pickle.load(f)\n",
    "    dtest = xgb.DMatrix(data)\n",
    "    ypred = model.predict(dtest)\n",
    "    del dtest, model\n",
    "\n",
    "    # 獲取最有可能的產品集\n",
    "    recommended_products = get_best_prediction(featurized_data['product_id'].tolist(), ypred.tolist(), None, showThreshold=False) # get_best_prediction會回傳product_id且用' '隔開的字串\n",
    "    recommended_products = recommended_products.replace(\"None\", \"\")\n",
    "    recommended_products = list(map(int, recommended_products.split())) # 我們的 product_id 是 int 型態的，所以需要轉成 int 的 list\n",
    "    products_x = pd.read_pickle(data_path + 'products_id_name.pkl')\n",
    "    recommended_products_df = products_x[products_x['product_id'].isin(recommended_products)]\n",
    "    recommended_products = {i: value for i, value in enumerate(recommended_products_df['product_name'])} # 轉成字典\n",
    "    predictions = {'recommend': recommended_products}\n",
    "\n",
    "print(predictions)"
   ]
  },
  {
   "cell_type": "markdown",
   "metadata": {},
   "source": [
    "# 6-5. 完成推薦函數\n",
    "<hr style=\"border:2px solid gray\">"
   ]
  },
  {
   "cell_type": "code",
   "execution_count": 14,
   "metadata": {},
   "outputs": [],
   "source": [
    "def get_recommendations(user_id_data=None, data_path='./datasets/'):\n",
    "\n",
    "    # 載入套件\n",
    "    import pandas as pd\n",
    "    import pickle\n",
    "    from datetime import datetime\n",
    "    import xgboost as xgb\n",
    "    from f1optimization_faron import get_best_prediction\n",
    "\n",
    "    # 獲取當前時間(計時用)\n",
    "    # 計時開始\n",
    "    start_time = datetime.now()\n",
    "\n",
    "    # 獲取當前時間(計算日期用)\n",
    "    now = datetime.now()\n",
    "    # 格式化日期和時間\n",
    "    dt_string = now.strftime(\"%d/%m/%Y %H:%M:%S\")\n",
    "    today = int(dt_string.split(\"/\")[0])\n",
    "\n",
    "    # 從用戶端獲取數據\n",
    "    user_id = int(user_id_data['user_id'])  # 用戶ID\n",
    "    order_hour_of_day = int(dt_string.split(\" \")[1].split(\":\")[0])  # 當前小時\n",
    "    order_dow = datetime.today().weekday()  # 當前星期幾\n",
    "\n",
    "    # 讀取用戶最後訂單日期(預設為部屬日期 6/14) 的 pkl 檔\n",
    "    ulp = pd.read_pickle(data_path + \"user_last_purchase.pkl\")\n",
    "    # 檢查用戶是否為新用戶\n",
    "    if user_id not in ulp['user_id'].values:\n",
    "        # 讀取基於小時和星期幾銷售前 10 的產品 pkl 檔\n",
    "        top = pd.read_pickle(data_path + 'top10_products.pkl')\n",
    "        top_products = top[(top['order_dow'] == order_dow) & (top['order_hour_of_day'] == order_hour_of_day)]['product_name'].values.tolist() # list 型態\n",
    "        top_products = {i: value for i, value in enumerate(top_products)} # 轉換為字典型態\n",
    "        predictions = {'top': top_products}\n",
    "\n",
    "        return predictions\n",
    "\n",
    "\n",
    "    # 判斷時否為原用戶\n",
    "    if user_id in ulp['user_id'].values:\n",
    "\n",
    "        user_last_order_date = ulp[ulp['user_id'] == user_id]['date'].values.tolist()[0] # 獲取預設最後訂單日期\n",
    "        days_since_prior_order = today - int(user_last_order_date.split('-')[-1]) # 計算距離上次購買過了幾天\n",
    "        # 用戶最後訂單日期和計算的天數\n",
    "        print(\"用戶最後訂單日期:\", user_last_order_date)\n",
    "        print(\"距離上次購買間隔天數:\", days_since_prior_order)\n",
    "\n",
    "\n",
    "        # 依據以上資訊創建特徵\n",
    "        misc_hour_order_rate = pd.read_pickle(data_path + \"hour_order_rate.pkl\") # 每小時的訂購率\n",
    "        misc_day_order_rate = pd.read_pickle(data_path + \"day_order_rate.pkl\") # 每星期幾的訂購率\n",
    "        misc_product_days_since_prior_order_order_rate = pd.read_pickle(data_path + \"product_days_since_prior_order_order_rate.pkl\") # 各個產品不同間隔天數的訂購率\n",
    "        misc_user_days_since_prior_order_order_rate = pd.read_pickle(data_path + \"user_days_since_prior_order_order_rate.pkl\") # 各個用戶不同間隔天數的訂購率\n",
    "        misc_uxp_days_since_prior_order_order_rate = pd.read_pickle(data_path + \"uxp_days_since_prior_order_order_rate.pkl\") # 各個用戶對於各個產品不同間隔天數的訂購率\n",
    "\n",
    "\n",
    "        # 其餘特徵已經在特徵工程中完成，因此其他特徵直接讀取 data.h5 即可\n",
    "        path = data_path + 'train_test_data.h5'\n",
    "        train_data = pd.read_hdf(path, key='train')\n",
    "        test_data = pd.read_hdf(path, key='test')\n",
    "        # 刪除 要根據當下情況判斷的特徵 以及 模型不需要的特徵\n",
    "        train_data.drop(columns=['order_id', 'order_dow', 'order_hour_of_day', 'days_since_prior_order',\n",
    "                                'misc_hour_order_rate', 'misc_day_order_rate',\n",
    "                                'misc_product_days_since_prior_order_order_rate',\n",
    "                                'misc_user_days_since_prior_order_order_rate',\n",
    "                                'misc_uxp_days_since_prior_order_order_rate', 'reordered'], inplace=True)\n",
    "\n",
    "        test_data.drop(columns=['order_id', 'order_dow', 'order_hour_of_day', 'days_since_prior_order',\n",
    "                                'misc_hour_order_rate', 'misc_day_order_rate',\n",
    "                                'misc_product_days_since_prior_order_order_rate',\n",
    "                                'misc_user_days_since_prior_order_order_rate',\n",
    "                                'misc_uxp_days_since_prior_order_order_rate'], inplace=True)\n",
    "        # 合併成一個完整原用戶的數據特徵集\n",
    "        all_user_data = pd.concat([train_data, test_data], axis=0)\n",
    "        # 抓取該用戶的特徵數據\n",
    "        featurized_data = all_user_data[all_user_data['user_id'] == user_id]\n",
    "        # 新增間隔時間的特徵\n",
    "        featurized_data = featurized_data.copy()\n",
    "        featurized_data['days_since_prior_order'] = days_since_prior_order\n",
    "\n",
    "\n",
    "        # 根據用戶ID、時間和星期收集特徵\n",
    "        hour_rate = misc_hour_order_rate[misc_hour_order_rate['order_hour_of_day'] == order_hour_of_day]\n",
    "        day_rate = misc_day_order_rate[misc_day_order_rate['order_dow'] == order_dow]\n",
    "        p_days_rate = misc_product_days_since_prior_order_order_rate[misc_product_days_since_prior_order_order_rate['days_since_prior_order'] == days_since_prior_order]\n",
    "        u_days_rate = misc_user_days_since_prior_order_order_rate[(misc_user_days_since_prior_order_order_rate['user_id'] == user_id) & (misc_user_days_since_prior_order_order_rate['days_since_prior_order'] == days_since_prior_order)]\n",
    "        uxp_days_rate = misc_uxp_days_since_prior_order_order_rate[(misc_uxp_days_since_prior_order_order_rate['user_id'] == user_id) & (misc_uxp_days_since_prior_order_order_rate['days_since_prior_order'] == days_since_prior_order)]\n",
    "        # 注意：並不是每個用戶和產品都會有所有時間、間隔天數的數據，因此我們需要給定預設值\n",
    "        # 處理空的特徵數據\n",
    "        if p_days_rate.empty:\n",
    "            p_days_rate = pd.DataFrame(columns=p_days_rate.columns)\n",
    "            products_x = pd.read_pickle(data_path + 'products_id_name.pkl')\n",
    "            p_days_rate['product_id'] = p_days_rate['product_id']\n",
    "            p_days_rate['days_since_prior_order'] = float(days_since_prior_order)\n",
    "            p_days_rate['misc_product_days_since_prior_order_order_rate'] = float(0)\n",
    "            del products_x\n",
    "        if u_days_rate.empty:\n",
    "            u_days_rate = pd.DataFrame(columns=u_days_rate.columns)\n",
    "            df2 = {'user_id': user_id, 'days_since_prior_order': float(days_since_prior_order), 'misc_user_days_since_prior_order_order_rate': float(0)}\n",
    "            u_days_rate = pd.concat([u_days_rate, pd.DataFrame([df2])], ignore_index=True)\n",
    "            del df2\n",
    "        if uxp_days_rate.empty:\n",
    "            uxp_days_rate = pd.DataFrame(columns=misc_uxp_days_since_prior_order_order_rate.columns)\n",
    "            products_x = pd.read_pickle(data_path + 'products_id_name.pkl')\n",
    "            uxp_days_rate['product_id'] = products_x['product_id']\n",
    "            uxp_days_rate['user_id'] = user_id\n",
    "            uxp_days_rate['days_since_prior_order'] = float(days_since_prior_order)\n",
    "            uxp_days_rate['misc_uxp_days_since_prior_order_order_rate'] = float(0)\n",
    "            del products_x\n",
    "\n",
    "        # 合併特徵數據\n",
    "        featurized_data = pd.merge(featurized_data, hour_rate, on='product_id')\n",
    "        featurized_data = pd.merge(featurized_data, day_rate, on='product_id')\n",
    "        featurized_data = pd.merge(featurized_data, p_days_rate, on=['product_id', 'days_since_prior_order'])\n",
    "        featurized_data = pd.merge(featurized_data, u_days_rate, on=['user_id', 'days_since_prior_order'])\n",
    "        featurized_data = pd.merge(featurized_data, uxp_days_rate, on=['user_id', 'product_id', 'days_since_prior_order'])\n",
    "\n",
    "        # 將時間轉換為類別變數\n",
    "        def hour_to_categorical(time):\n",
    "            if 6 <= time < 12:  # 6 AM 到 11 AM\n",
    "                return 0\n",
    "            elif 12 <= time < 17:  # 12 PM 到 4 PM\n",
    "                return 1\n",
    "            elif 17 <= time < 21:  # 5 PM 到 8 PM\n",
    "                return 2\n",
    "            else:  # 9 PM 到 5 AM\n",
    "                    return 3\n",
    "        featurized_data['order_hour_of_day'] = featurized_data['order_hour_of_day'].apply(hour_to_categorical)\n",
    "\n",
    "        # 預測的特徵要與模型的特徵順序一致\n",
    "        expected_features = ['uxp_order_rate', 'uxp_order_reorder_ratio', 'uxp_avg_position', 'uxp_orders_since_last',\n",
    "                            'uxp_max_streak', 'user_reorder_rate', 'user_unique_products', 'user_total_products',\n",
    "                            'user_avg_cart_size', 'user_avg_days_between_orders', 'user_reordered_products_ratio',\n",
    "                            'product_reorder_ratio', 'product_avg_pos_incart', 'product_reduced_feat_1',\n",
    "                            'product_reduced_feat_2', 'product_reduced_feat_3', 'product_aisle_reorder_rate',\n",
    "                            'product_department_reorder_rate', 'uxp_product_unique_customers', 'uxp_product_one_shot_ratio',\n",
    "                            'order_dow', 'order_hour_of_day', 'days_since_prior_order', 'misc_hour_order_rate',\n",
    "                            'misc_day_order_rate', 'misc_product_days_since_prior_order_order_rate',\n",
    "                            'misc_user_days_since_prior_order_order_rate', 'misc_uxp_days_since_prior_order_order_rate']\n",
    "        data = featurized_data[expected_features]\n",
    "\n",
    "        # 加載模型並進行預測\n",
    "        with open(data_path + \"xgb_v1.pkl\", \"rb\") as f:\n",
    "            model = pickle.load(f)\n",
    "        dtest = xgb.DMatrix(data)\n",
    "        ypred = model.predict(dtest)\n",
    "        del dtest, model\n",
    "\n",
    "        # 獲取最有可能的產品集\n",
    "        recommended_products = get_best_prediction(featurized_data['product_id'].tolist(), ypred.tolist(), None, showThreshold=False) # get_best_prediction會回傳product_id且用' '隔開的字串\n",
    "        recommended_products = recommended_products.replace(\"None\", \"\")\n",
    "        recommended_products = list(map(int, recommended_products.split())) # 我們的 product_id 是 int 型態的，所以需要轉成 int 的 list\n",
    "        products_x = pd.read_pickle(data_path + 'products_id_name.pkl')\n",
    "        recommended_products_df = products_x[products_x['product_id'].isin(recommended_products)]\n",
    "        recommended_products = {i: value for i, value in enumerate(recommended_products_df['product_name'])} # 轉成字典\n",
    "        predictions = {'recommend': recommended_products}\n",
    "\n",
    "        return predictions"
   ]
  },
  {
   "cell_type": "markdown",
   "metadata": {},
   "source": [
    "# 6-6. 實測\n",
    "<hr style=\"border:2px solid gray\">\n",
    "\n",
    "假設新用戶ID為 123456789"
   ]
  },
  {
   "cell_type": "code",
   "execution_count": 15,
   "metadata": {},
   "outputs": [
    {
     "name": "stdout",
     "output_type": "stream",
     "text": [
      "{'top': {0: 'Banana', 1: 'Bag of Organic Bananas', 2: 'Organic Strawberries', 3: 'Organic Baby Spinach', 4: 'Organic Hass Avocado', 5: 'Organic Avocado', 6: 'Organic Whole Milk', 7: 'Strawberries', 8: 'Large Lemon', 9: 'Organic Raspberries'}}\n"
     ]
    }
   ],
   "source": [
    "user_id_data = {'user_id':123456789}\n",
    "print(get_recommendations(user_id_data))"
   ]
  },
  {
   "cell_type": "markdown",
   "metadata": {},
   "source": [
    "假設現有用戶ID為 1998"
   ]
  },
  {
   "cell_type": "code",
   "execution_count": 16,
   "metadata": {},
   "outputs": [
    {
     "name": "stdout",
     "output_type": "stream",
     "text": [
      "用戶最後訂單日期: 2024-06-14\n",
      "距離上次購買間隔天數: 12\n",
      "{'recommend': {0: 'Whole Milk', 1: '1percent Low Fat Milk', 2: 'Cocoa Krispies Cereal'}}\n"
     ]
    }
   ],
   "source": [
    "user_id_data = {'user_id':1998}\n",
    "print(get_recommendations(user_id_data))"
   ]
  }
 ],
 "metadata": {
  "kernelspec": {
   "display_name": "Python 3",
   "language": "python",
   "name": "python3"
  },
  "language_info": {
   "codemirror_mode": {
    "name": "ipython",
    "version": 3
   },
   "file_extension": ".py",
   "mimetype": "text/x-python",
   "name": "python",
   "nbconvert_exporter": "python",
   "pygments_lexer": "ipython3",
   "version": "3.11.4"
  }
 },
 "nbformat": 4,
 "nbformat_minor": 2
}
